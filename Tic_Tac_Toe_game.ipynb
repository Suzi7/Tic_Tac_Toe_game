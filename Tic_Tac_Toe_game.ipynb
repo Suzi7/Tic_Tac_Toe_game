{
 "cells": [
  {
   "cell_type": "markdown",
   "id": "72935b53",
   "metadata": {},
   "source": [
    "# Tic Tac Toe Game"
   ]
  },
  {
   "cell_type": "code",
   "execution_count": null,
   "id": "0e21a79d",
   "metadata": {},
   "outputs": [],
   "source": [
    "def print_board(board):\n",
    "    for row in board:\n",
    "        print(\" | \".join(row))\n",
    "        print(\"-\" * 9)\n",
    "\n",
    "def check_win(board, player):\n",
    "    # Check rows, columns, and diagonals for a win\n",
    "    for i in range(3):\n",
    "        if all(square == player for square in board[i]) or \\\n",
    "           all(row[i] == player for row in board) or \\\n",
    "           all(board[i][i] == player for i in range(3)) or \\\n",
    "           all(board[i][2-i] == player for i in range(3)):\n",
    "            return True\n",
    "    return False\n",
    "\n",
    "def check_tie(board):\n",
    "    return all(square != \"\" for row in board for square in row)\n",
    "\n",
    "def main():\n",
    "    board = [[\"\" for _ in range(3)] for _ in range(3)]\n",
    "    players = [\"X\", \"O\"]\n",
    "    current_player = 0\n",
    "\n",
    "    while True:\n",
    "        print_board(board)\n",
    "        player_symbol = players[current_player]\n",
    "        print(f\"Player {player_symbol}'s turn\")\n",
    "\n",
    "        while True:\n",
    "            try:\n",
    "                row = int(input(\"Enter row (0-2): \"))\n",
    "                col = int(input(\"Enter column (0-2): \"))\n",
    "                if 0 <= row <= 2 and 0 <= col <= 2 and board[row][col] == \"\":\n",
    "                    break\n",
    "                else:\n",
    "                    print(\"Invalid move. Try again.\")\n",
    "            except ValueError:\n",
    "                print(\"Invalid input. Please enter a number.\")\n",
    "\n",
    "        board[row][col] = player_symbol\n",
    "\n",
    "        if check_win(board, player_symbol):\n",
    "            print_board(board)\n",
    "            print(f\"Player {player_symbol} wins!\")\n",
    "            break\n",
    "        elif check_tie(board):\n",
    "            print_board(board)\n",
    "            print(\"It's a tie!\")\n",
    "            break\n",
    "\n",
    "        current_player = 1 - current_player\n",
    "\n",
    "if __name__ == \"__main__\":\n",
    "    main()\n"
   ]
  },
  {
   "cell_type": "markdown",
   "id": "87dfd5c3",
   "metadata": {},
   "source": [
    "# Good Luck"
   ]
  }
 ],
 "metadata": {
  "kernelspec": {
   "display_name": "Python 3 (ipykernel)",
   "language": "python",
   "name": "python3"
  },
  "language_info": {
   "codemirror_mode": {
    "name": "ipython",
    "version": 3
   },
   "file_extension": ".py",
   "mimetype": "text/x-python",
   "name": "python",
   "nbconvert_exporter": "python",
   "pygments_lexer": "ipython3",
   "version": "3.9.12"
  }
 },
 "nbformat": 4,
 "nbformat_minor": 5
}
